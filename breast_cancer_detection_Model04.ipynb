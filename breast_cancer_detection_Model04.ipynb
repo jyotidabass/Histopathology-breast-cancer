{
  "cells": [
    {
      "cell_type": "markdown",
      "metadata": {
        "id": "view-in-github",
        "colab_type": "text"
      },
      "source": [
        "<a href=\"https://colab.research.google.com/github/jyotidabass/Histopathology-breast-cancer/blob/main/breast_cancer_detection_Model04.ipynb\" target=\"_parent\"><img src=\"https://colab.research.google.com/assets/colab-badge.svg\" alt=\"Open In Colab\"/></a>"
      ]
    },
    {
      "cell_type": "code",
      "execution_count": null,
      "metadata": {
        "id": "EgBf5Iz55tDb",
        "outputId": "5b607201-b209-4af6-9b4e-36dcd34f845b"
      },
      "outputs": [
        {
          "name": "stdout",
          "output_type": "stream",
          "text": [
            "[name: \"/device:CPU:0\"\n",
            "device_type: \"CPU\"\n",
            "memory_limit: 268435456\n",
            "locality {\n",
            "}\n",
            "incarnation: 927931377932929411\n",
            ", name: \"/device:GPU:0\"\n",
            "device_type: \"GPU\"\n",
            "memory_limit: 4950209331\n",
            "locality {\n",
            "  bus_id: 1\n",
            "  links {\n",
            "  }\n",
            "}\n",
            "incarnation: 1486559521091559177\n",
            "physical_device_desc: \"device: 0, name: GeForce GTX 1060, pci bus id: 0000:01:00.0, compute capability: 6.1\"\n",
            "]\n"
          ]
        },
        {
          "name": "stderr",
          "output_type": "stream",
          "text": [
            "Using TensorFlow backend.\n"
          ]
        }
      ],
      "source": [
        "import numpy as np\n",
        "import pandas as pd\n",
        "import tensorflow as tf\n",
        "from tensorflow.python.client import device_lib\n",
        "print(device_lib.list_local_devices())\n",
        "import matplotlib.pylab as plt\n",
        "import seaborn as sns\n",
        "from glob import glob\n",
        "import fnmatch\n",
        "import cv2\n",
        "import argparse\n",
        "import pickle\n",
        "import os\n",
        "import sklearn\n",
        "from sklearn import model_selection\n",
        "from sklearn.model_selection import train_test_split, KFold, cross_val_score, StratifiedKFold, learning_curve, GridSearchCV\n",
        "from sklearn.metrics import confusion_matrix, make_scorer, accuracy_score, classification_report\n",
        "import keras\n",
        "from keras import backend as K\n",
        "K.tensorflow_backend._get_available_gpus()\n",
        "from keras.callbacks import Callback, EarlyStopping, ReduceLROnPlateau, ModelCheckpoint\n",
        "from keras.preprocessing.image import ImageDataGenerator\n",
        "from keras.utils import plot_model\n",
        "from keras.utils.np_utils import to_categorical\n",
        "from keras.utils.vis_utils import model_to_dot\n",
        "from keras.models import Sequential, model_from_json\n",
        "from keras.optimizers import SGD, RMSprop, Adam, Adagrad, Adadelta\n",
        "from keras.layers import Dense, Dropout, Embedding, SpatialDropout1D, Activation, Flatten, BatchNormalization, Conv2D, MaxPool2D, MaxPooling2D\n",
        "%matplotlib inline\n",
        "import random"
      ]
    },
    {
      "cell_type": "code",
      "execution_count": null,
      "metadata": {
        "id": "HXAPhj6j5tDi",
        "outputId": "5d0a11cf-5e6a-4577-f720-bf935a76cb53"
      },
      "outputs": [
        {
          "name": "stdout",
          "output_type": "stream",
          "text": [
            "IDC_regular_ps50_idx5\\10253\\0\\10253_idx5_x1001_y1001_class0.png\n",
            "IDC_regular_ps50_idx5\\10253\\0\\10253_idx5_x1001_y1051_class0.png\n",
            "IDC_regular_ps50_idx5\\10253\\0\\10253_idx5_x1001_y1101_class0.png\n",
            "IDC_regular_ps50_idx5\\10253\\0\\10253_idx5_x1001_y1151_class0.png\n",
            "IDC_regular_ps50_idx5\\10253\\0\\10253_idx5_x1001_y1201_class0.png\n",
            "IDC_regular_ps50_idx5\\10253\\0\\10253_idx5_x1001_y1251_class0.png\n",
            "IDC_regular_ps50_idx5\\10253\\0\\10253_idx5_x1001_y1301_class0.png\n",
            "IDC_regular_ps50_idx5\\10253\\0\\10253_idx5_x1001_y1351_class0.png\n",
            "IDC_regular_ps50_idx5\\10253\\0\\10253_idx5_x1001_y1501_class0.png\n",
            "IDC_regular_ps50_idx5\\10253\\0\\10253_idx5_x1001_y1551_class0.png\n"
          ]
        }
      ],
      "source": [
        "# source: https://www.kaggle.com/paultimothymooney/predicting-idc-in-breast-cancer-histology-images/notebook\n",
        "imagePatches = glob('IDC_regular_ps50_idx5/**/*.png', recursive=True) # search pathname/folder to find .png files recursively then parse files\n",
        "for filename in imagePatches[0:10]:\n",
        "    print(filename)"
      ]
    },
    {
      "cell_type": "code",
      "execution_count": null,
      "metadata": {
        "id": "EacBKcf_5tDj",
        "outputId": "6f9f02c5-d3b1-4b9d-f6cc-579b4caa1e63"
      },
      "outputs": [
        {
          "data": {
            "image/png": "[encoded data removed]",
            "text/plain": [
              "<Figure size 432x288 with 1 Axes>"
            ]
          },
          "metadata": {
            "needs_background": "light"
          },
          "output_type": "display_data"
        }
      ],
      "source": [
        "image_name = \"IDC_regular_ps50_idx5/9135/1/9135_idx5_x1701_y1851_class1.png\" #Image to be used as query\n",
        "def plotImage(image_location):\n",
        "    image = cv2.imread(image_name)\n",
        "    image = cv2.resize(image, (50,50))\n",
        "    plt.imshow(cv2.cvtColor(image, cv2.COLOR_BGR2RGB)); plt.axis('off')\n",
        "    return\n",
        "plotImage(image_name)"
      ]
    },
    {
      "cell_type": "code",
      "execution_count": null,
      "metadata": {
        "id": "SDgbNP_t5tDk",
        "outputId": "bf6bf323-8588-4e9e-858e-b13ef4d10c6c"
      },
      "outputs": [
        {
          "name": "stdout",
          "output_type": "stream",
          "text": [
            "IDC(-)\n",
            "\n",
            " ['IDC_regular_ps50_idx5\\\\10253\\\\0\\\\10253_idx5_x1001_y1001_class0.png', 'IDC_regular_ps50_idx5\\\\10253\\\\0\\\\10253_idx5_x1001_y1051_class0.png', 'IDC_regular_ps50_idx5\\\\10253\\\\0\\\\10253_idx5_x1001_y1101_class0.png', 'IDC_regular_ps50_idx5\\\\10253\\\\0\\\\10253_idx5_x1001_y1151_class0.png', 'IDC_regular_ps50_idx5\\\\10253\\\\0\\\\10253_idx5_x1001_y1201_class0.png'] \n",
            "\n",
            "IDC(+)\n",
            "\n",
            " ['IDC_regular_ps50_idx5\\\\10253\\\\1\\\\10253_idx5_x501_y351_class1.png', 'IDC_regular_ps50_idx5\\\\10253\\\\1\\\\10253_idx5_x501_y401_class1.png', 'IDC_regular_ps50_idx5\\\\10253\\\\1\\\\10253_idx5_x551_y301_class1.png', 'IDC_regular_ps50_idx5\\\\10253\\\\1\\\\10253_idx5_x551_y351_class1.png', 'IDC_regular_ps50_idx5\\\\10253\\\\1\\\\10253_idx5_x551_y401_class1.png']\n"
          ]
        }
      ],
      "source": [
        "patternZero = '*class0.png'\n",
        "patternOne = '*class1.png'\n",
        "classZero = fnmatch.filter(imagePatches, patternZero) #filename pattern matching returns subset of list of names\n",
        "classOne = fnmatch.filter(imagePatches, patternOne)\n",
        "print(\"IDC(-)\\n\\n\",classZero[0:5],'\\n')\n",
        "print(\"IDC(+)\\n\\n\",classOne[0:5])"
      ]
    },
    {
      "cell_type": "code",
      "execution_count": null,
      "metadata": {
        "id": "Lcrd3xFC5tDk"
      },
      "outputs": [],
      "source": [
        "def proc_images(lowerIndex,upperIndex):\n",
        "    \"\"\"\n",
        "    Returns two arrays: \n",
        "        x is an array of resized images\n",
        "        y is an array of labels\n",
        "    \"\"\" \n",
        "    x = []\n",
        "    y = []\n",
        "    WIDTH = 50\n",
        "    HEIGHT = 50\n",
        "    for img in imagePatches[lowerIndex:upperIndex]:\n",
        "        full_size_image = cv2.imread(img)\n",
        "        x.append(cv2.resize(full_size_image, (WIDTH,HEIGHT), interpolation=cv2.INTER_CUBIC))\n",
        "        if img in classZero:\n",
        "            y.append(0)\n",
        "        elif img in classOne:\n",
        "            y.append(1)\n",
        "        else:\n",
        "            return\n",
        "    return x,y"
      ]
    },
    {
      "cell_type": "code",
      "execution_count": null,
      "metadata": {
        "id": "ofQLW7mK5tDl",
        "outputId": "a4a59072-67e0-4e48-ec59-520626434255"
      },
      "outputs": [
        {
          "name": "stdout",
          "output_type": "stream",
          "text": [
            "Wall time: 0 ns\n"
          ]
        }
      ],
      "source": [
        "%time\n",
        "X,Y = proc_images(0,100000)\n",
        "df = pd.DataFrame()\n",
        "df[\"images\"]=X\n",
        "df[\"labels\"]=Y\n",
        "X2=df[\"images\"]\n",
        "Y2=df[\"labels\"]\n",
        "X2=np.array(X2)\n",
        "imgs0=[]\n",
        "imgs1=[]\n",
        "imgs0 = X2[Y2==0] # (0 = no IDC, 1 = IDC)\n",
        "imgs1 = X2[Y2==1] "
      ]
    },
    {
      "cell_type": "code",
      "execution_count": null,
      "metadata": {
        "id": "4hacDZPa5tDm",
        "outputId": "c9845821-f2bc-4fb0-8d85-7761e639a3c8"
      },
      "outputs": [
        {
          "name": "stdout",
          "output_type": "stream",
          "text": [
            "Total number of images: 100000\n",
            "Number of IDC(-) Images: 70901\n",
            "Number of IDC(+) Images: 29099\n",
            "Percentage of positive images: 29.10%\n",
            "Image shape (Width, Height, Channels): (50, 50, 3)\n"
          ]
        }
      ],
      "source": [
        "def describeData(a,b):\n",
        "    print('Total number of images: {}'.format(len(a)))\n",
        "    print('Number of IDC(-) Images: {}'.format(np.sum(b==0)))\n",
        "    print('Number of IDC(+) Images: {}'.format(np.sum(b==1)))\n",
        "    print('Percentage of positive images: {:.2f}%'.format(100*np.mean(b)))\n",
        "    print('Image shape (Width, Height, Channels): {}'.format(a[0].shape))\n",
        "describeData(X2,Y2)"
      ]
    },
    {
      "cell_type": "code",
      "execution_count": null,
      "metadata": {
        "id": "TmkfIuSx5tDm",
        "outputId": "a8b5ad7c-3faa-436e-f7ac-f116a428d16a"
      },
      "outputs": [
        {
          "name": "stdout",
          "output_type": "stream",
          "text": [
            "                                              images  labels\n",
            "0  [[[206, 164, 226], [196, 154, 224], [211, 175,...       0\n",
            "1  [[[197, 150, 219], [201, 158, 217], [205, 173,...       0\n",
            "2  [[[249, 245, 248], [248, 246, 248], [253, 246,...       0\n",
            "3  [[[249, 247, 249], [249, 247, 249], [249, 247,...       0\n",
            "4  [[[237, 231, 241], [245, 242, 246], [235, 222,...       0\n",
            "5  [[[248, 246, 248], [248, 246, 248], [248, 246,...       0\n",
            "6  [[[175, 120, 212], [145, 88, 175], [132, 72, 1...       0\n",
            "7  [[[87, 38, 142], [120, 94, 165], [195, 180, 21...       0\n",
            "8  [[[235, 228, 240], [242, 240, 246], [252, 244,...       0\n",
            "9  [[[238, 223, 242], [239, 235, 241], [250, 245,...       0\n",
            "\n",
            "{0: 'IDC(-)', 1: 'IDC(+)'}\n"
          ]
        }
      ],
      "source": [
        "dict_characters = {0: 'IDC(-)', 1: 'IDC(+)'}\n",
        "print(df.head(10))\n",
        "print(\"\")\n",
        "print(dict_characters)"
      ]
    },
    {
      "cell_type": "code",
      "execution_count": null,
      "metadata": {
        "id": "00hm6MVK5tDm",
        "outputId": "5c75ef45-e8fc-4cf4-bdcd-d50ee5d248e9"
      },
      "outputs": [
        {
          "data": {
            "image/png": "[encoded data removed]",
            "text/plain": [
              "<Figure size 432x288 with 2 Axes>"
            ]
          },
          "metadata": {
            "needs_background": "light"
          },
          "output_type": "display_data"
        }
      ],
      "source": [
        "def plotOne(a,b):\n",
        "    \"\"\"\n",
        "    Plot one numpy array\n",
        "    \"\"\"\n",
        "    plt.subplot(1,2,1)\n",
        "    plt.title('IDC (-)')\n",
        "    plt.imshow(a[100])\n",
        "    plt.subplot(1,2,2)\n",
        "    plt.title('IDC (+)')\n",
        "    plt.imshow(b[100])\n",
        "plotOne(imgs0, imgs1) "
      ]
    },
    {
      "cell_type": "code",
      "execution_count": null,
      "metadata": {
        "id": "r2huux-R5tDn"
      },
      "outputs": [],
      "source": [
        "X=np.array(X)\n",
        "X=X/255.0\n",
        "\n",
        "X_train, X_test, Y_train, Y_test = train_test_split(X, Y, test_size=0.20, random_state=42)\n"
      ]
    },
    {
      "cell_type": "code",
      "execution_count": null,
      "metadata": {
        "id": "K3LG6W875tDo",
        "outputId": "f69abd33-f33a-42c7-ad76-461603d449df"
      },
      "outputs": [
        {
          "name": "stdout",
          "output_type": "stream",
          "text": [
            "[INFO] training network...\n",
            "Train on 80000 samples, validate on 20000 samples\n",
            "Epoch 1/75\n",
            "80000/80000 [==============================] - 16s 195us/step - loss: 0.5639 - acc: 0.7273 - val_loss: 0.5104 - val_acc: 0.7517\n",
            "Epoch 2/75\n",
            "80000/80000 [==============================] - 8s 96us/step - loss: 0.5002 - acc: 0.7624 - val_loss: 0.4905 - val_acc: 0.7704\n",
            "Epoch 3/75\n",
            "80000/80000 [==============================] - 7s 92us/step - loss: 0.4898 - acc: 0.7687 - val_loss: 0.4831 - val_acc: 0.7710\n",
            "Epoch 4/75\n",
            "80000/80000 [==============================] - 7s 93us/step - loss: 0.4882 - acc: 0.7697 - val_loss: 0.4864 - val_acc: 0.7726\n",
            "Epoch 5/75\n",
            "80000/80000 [==============================] - 7s 93us/step - loss: 0.4846 - acc: 0.7717 - val_loss: 0.4823 - val_acc: 0.7711\n",
            "Epoch 6/75\n",
            "80000/80000 [==============================] - 7s 94us/step - loss: 0.4841 - acc: 0.7716 - val_loss: 0.4817 - val_acc: 0.7708\n",
            "Epoch 7/75\n",
            "80000/80000 [==============================] - 8s 94us/step - loss: 0.4836 - acc: 0.7721 - val_loss: 0.4820 - val_acc: 0.7718\n",
            "Epoch 8/75\n",
            "80000/80000 [==============================] - 7s 93us/step - loss: 0.4817 - acc: 0.7720 - val_loss: 0.4791 - val_acc: 0.7721\n",
            "Epoch 9/75\n",
            "80000/80000 [==============================] - 7s 93us/step - loss: 0.4800 - acc: 0.7726 - val_loss: 0.4794 - val_acc: 0.7714\n",
            "Epoch 10/75\n",
            "80000/80000 [==============================] - 7s 93us/step - loss: 0.4796 - acc: 0.7716 - val_loss: 0.4803 - val_acc: 0.7715\n",
            "Epoch 11/75\n",
            "80000/80000 [==============================] - 7s 93us/step - loss: 0.4785 - acc: 0.7734 - val_loss: 0.4769 - val_acc: 0.7731\n",
            "Epoch 12/75\n",
            "80000/80000 [==============================] - 7s 93us/step - loss: 0.4770 - acc: 0.7738 - val_loss: 0.4757 - val_acc: 0.7733\n",
            "Epoch 13/75\n",
            "80000/80000 [==============================] - 7s 93us/step - loss: 0.4745 - acc: 0.7752 - val_loss: 0.4758 - val_acc: 0.7725\n",
            "Epoch 14/75\n",
            "80000/80000 [==============================] - 7s 93us/step - loss: 0.4736 - acc: 0.7759 - val_loss: 0.4730 - val_acc: 0.7746\n",
            "Epoch 15/75\n",
            "80000/80000 [==============================] - 7s 93us/step - loss: 0.4718 - acc: 0.7761 - val_loss: 0.4715 - val_acc: 0.7748\n",
            "Epoch 16/75\n",
            "80000/80000 [==============================] - 7s 92us/step - loss: 0.4697 - acc: 0.7765 - val_loss: 0.4784 - val_acc: 0.7715\n",
            "Epoch 17/75\n",
            "80000/80000 [==============================] - 7s 92us/step - loss: 0.4686 - acc: 0.7780 - val_loss: 0.4749 - val_acc: 0.7728\n",
            "Epoch 18/75\n",
            "80000/80000 [==============================] - 7s 93us/step - loss: 0.4668 - acc: 0.7783 - val_loss: 0.4696 - val_acc: 0.7751\n",
            "Epoch 19/75\n",
            "80000/80000 [==============================] - 7s 93us/step - loss: 0.4661 - acc: 0.7780 - val_loss: 0.4678 - val_acc: 0.7748\n",
            "Epoch 20/75\n",
            "80000/80000 [==============================] - 8s 95us/step - loss: 0.4643 - acc: 0.7810 - val_loss: 0.4667 - val_acc: 0.7771\n",
            "Epoch 21/75\n",
            "80000/80000 [==============================] - 7s 93us/step - loss: 0.4643 - acc: 0.7795 - val_loss: 0.4700 - val_acc: 0.7803\n",
            "Epoch 22/75\n",
            "80000/80000 [==============================] - 7s 92us/step - loss: 0.4627 - acc: 0.7818 - val_loss: 0.4707 - val_acc: 0.7808\n",
            "Epoch 23/75\n",
            "80000/80000 [==============================] - 7s 93us/step - loss: 0.4628 - acc: 0.7821 - val_loss: 0.4710 - val_acc: 0.7736\n",
            "Epoch 24/75\n",
            "80000/80000 [==============================] - 7s 92us/step - loss: 0.4619 - acc: 0.7812 - val_loss: 0.4681 - val_acc: 0.7750\n",
            "Epoch 25/75\n",
            "80000/80000 [==============================] - 7s 92us/step - loss: 0.4607 - acc: 0.7828 - val_loss: 0.4657 - val_acc: 0.7804\n",
            "Epoch 26/75\n",
            "80000/80000 [==============================] - 7s 92us/step - loss: 0.4603 - acc: 0.7835 - val_loss: 0.4632 - val_acc: 0.7781\n",
            "Epoch 27/75\n",
            "80000/80000 [==============================] - 7s 92us/step - loss: 0.4593 - acc: 0.7839 - val_loss: 0.4811 - val_acc: 0.7826\n",
            "Epoch 28/75\n",
            "80000/80000 [==============================] - 7s 93us/step - loss: 0.4587 - acc: 0.7836 - val_loss: 0.4713 - val_acc: 0.7839\n",
            "Epoch 29/75\n",
            "80000/80000 [==============================] - 7s 93us/step - loss: 0.4579 - acc: 0.7844 - val_loss: 0.4675 - val_acc: 0.7832\n",
            "Epoch 30/75\n",
            "80000/80000 [==============================] - 7s 93us/step - loss: 0.4579 - acc: 0.7842 - val_loss: 0.4672 - val_acc: 0.7817\n",
            "Epoch 31/75\n",
            "80000/80000 [==============================] - 7s 93us/step - loss: 0.4568 - acc: 0.7847 - val_loss: 0.5347 - val_acc: 0.7481\n",
            "Epoch 32/75\n",
            "80000/80000 [==============================] - 7s 93us/step - loss: 0.4562 - acc: 0.7857 - val_loss: 0.4615 - val_acc: 0.7787\n",
            "Epoch 33/75\n",
            "80000/80000 [==============================] - 7s 93us/step - loss: 0.4557 - acc: 0.7855 - val_loss: 0.4678 - val_acc: 0.7756\n",
            "Epoch 34/75\n",
            "80000/80000 [==============================] - 7s 93us/step - loss: 0.4560 - acc: 0.7857 - val_loss: 0.4970 - val_acc: 0.7741\n",
            "Epoch 35/75\n",
            "80000/80000 [==============================] - 7s 93us/step - loss: 0.4546 - acc: 0.7875 - val_loss: 0.4631 - val_acc: 0.7769\n",
            "Epoch 36/75\n",
            "80000/80000 [==============================] - 7s 93us/step - loss: 0.4544 - acc: 0.7880 - val_loss: 0.4636 - val_acc: 0.7775\n",
            "Epoch 37/75\n",
            "80000/80000 [==============================] - 7s 93us/step - loss: 0.4539 - acc: 0.7875 - val_loss: 0.4583 - val_acc: 0.7843\n",
            "Epoch 38/75\n",
            "80000/80000 [==============================] - 8s 95us/step - loss: 0.4526 - acc: 0.7887 - val_loss: 0.4580 - val_acc: 0.7854\n",
            "Epoch 39/75\n",
            "80000/80000 [==============================] - 7s 93us/step - loss: 0.4524 - acc: 0.7893 - val_loss: 0.4578 - val_acc: 0.7822\n",
            "Epoch 40/75\n",
            "80000/80000 [==============================] - 7s 94us/step - loss: 0.4515 - acc: 0.7894 - val_loss: 0.4630 - val_acc: 0.7879\n",
            "Epoch 41/75\n",
            "80000/80000 [==============================] - 7s 92us/step - loss: 0.4511 - acc: 0.7906 - val_loss: 0.4600 - val_acc: 0.7795\n",
            "Epoch 42/75\n",
            "80000/80000 [==============================] - 7s 92us/step - loss: 0.4500 - acc: 0.7915 - val_loss: 0.4576 - val_acc: 0.7880\n",
            "Epoch 43/75\n",
            "80000/80000 [==============================] - 7s 93us/step - loss: 0.4504 - acc: 0.7907 - val_loss: 0.4709 - val_acc: 0.7891\n",
            "Epoch 44/75\n",
            "80000/80000 [==============================] - 7s 92us/step - loss: 0.4494 - acc: 0.7918 - val_loss: 0.4562 - val_acc: 0.7846\n",
            "Epoch 45/75\n",
            "80000/80000 [==============================] - 7s 93us/step - loss: 0.4495 - acc: 0.7906 - val_loss: 0.4581 - val_acc: 0.7898\n",
            "Epoch 46/75\n",
            "80000/80000 [==============================] - 7s 92us/step - loss: 0.4492 - acc: 0.7925 - val_loss: 0.4554 - val_acc: 0.7845\n",
            "Epoch 47/75\n",
            "80000/80000 [==============================] - 7s 93us/step - loss: 0.4480 - acc: 0.7922 - val_loss: 0.4550 - val_acc: 0.7885\n",
            "Epoch 48/75\n",
            "80000/80000 [==============================] - 7s 93us/step - loss: 0.4487 - acc: 0.7925 - val_loss: 0.4566 - val_acc: 0.7849\n",
            "Epoch 49/75\n",
            "80000/80000 [==============================] - 7s 94us/step - loss: 0.4477 - acc: 0.7929 - val_loss: 0.4684 - val_acc: 0.7915\n",
            "Epoch 50/75\n",
            "80000/80000 [==============================] - 7s 93us/step - loss: 0.4466 - acc: 0.7944 - val_loss: 0.4631 - val_acc: 0.7909\n",
            "Epoch 51/75\n",
            "80000/80000 [==============================] - 7s 93us/step - loss: 0.4463 - acc: 0.7934 - val_loss: 0.4983 - val_acc: 0.7736\n",
            "Epoch 52/75\n",
            "80000/80000 [==============================] - 7s 93us/step - loss: 0.4461 - acc: 0.7937 - val_loss: 0.4544 - val_acc: 0.7908\n",
            "Epoch 53/75\n",
            "80000/80000 [==============================] - 8s 95us/step - loss: 0.4459 - acc: 0.7941 - val_loss: 0.4635 - val_acc: 0.7796\n",
            "Epoch 54/75\n",
            "80000/80000 [==============================] - 7s 93us/step - loss: 0.4454 - acc: 0.7942 - val_loss: 0.4550 - val_acc: 0.7900\n",
            "Epoch 55/75\n",
            "80000/80000 [==============================] - 7s 93us/step - loss: 0.4453 - acc: 0.7960 - val_loss: 0.4558 - val_acc: 0.7930\n",
            "Epoch 56/75\n",
            "80000/80000 [==============================] - 7s 92us/step - loss: 0.4450 - acc: 0.7948 - val_loss: 0.4572 - val_acc: 0.7851\n",
            "Epoch 57/75\n",
            "80000/80000 [==============================] - 7s 92us/step - loss: 0.4440 - acc: 0.7962 - val_loss: 0.4639 - val_acc: 0.7806\n",
            "Epoch 58/75\n",
            "80000/80000 [==============================] - 7s 93us/step - loss: 0.4439 - acc: 0.7948 - val_loss: 0.4566 - val_acc: 0.7915\n",
            "Epoch 59/75\n",
            "80000/80000 [==============================] - 7s 93us/step - loss: 0.4434 - acc: 0.7969 - val_loss: 0.4565 - val_acc: 0.7847\n"
          ]
        },
        {
          "name": "stdout",
          "output_type": "stream",
          "text": [
            "Epoch 60/75\n",
            "80000/80000 [==============================] - 7s 92us/step - loss: 0.4429 - acc: 0.7968 - val_loss: 0.4533 - val_acc: 0.7906\n",
            "Epoch 61/75\n",
            "80000/80000 [==============================] - 7s 92us/step - loss: 0.4436 - acc: 0.7962 - val_loss: 0.4841 - val_acc: 0.7729\n",
            "Epoch 62/75\n",
            "80000/80000 [==============================] - 7s 93us/step - loss: 0.4435 - acc: 0.7969 - val_loss: 0.4608 - val_acc: 0.7939\n",
            "Epoch 63/75\n",
            "80000/80000 [==============================] - 7s 93us/step - loss: 0.4415 - acc: 0.7980 - val_loss: 0.4626 - val_acc: 0.7938\n",
            "Epoch 64/75\n",
            "80000/80000 [==============================] - 7s 93us/step - loss: 0.4422 - acc: 0.7968 - val_loss: 0.4536 - val_acc: 0.7869\n",
            "Epoch 65/75\n",
            "80000/80000 [==============================] - 7s 93us/step - loss: 0.4418 - acc: 0.7973 - val_loss: 0.4545 - val_acc: 0.7895\n",
            "Epoch 66/75\n",
            "80000/80000 [==============================] - 7s 93us/step - loss: 0.4421 - acc: 0.7973 - val_loss: 0.4670 - val_acc: 0.7804\n",
            "Epoch 67/75\n",
            "80000/80000 [==============================] - 7s 93us/step - loss: 0.4411 - acc: 0.7977 - val_loss: 0.4961 - val_acc: 0.7725\n",
            "Epoch 68/75\n",
            "80000/80000 [==============================] - 7s 92us/step - loss: 0.4409 - acc: 0.7990 - val_loss: 0.4516 - val_acc: 0.7915\n",
            "Epoch 69/75\n",
            "80000/80000 [==============================] - 7s 93us/step - loss: 0.4405 - acc: 0.8002 - val_loss: 0.4523 - val_acc: 0.7947\n",
            "Epoch 70/75\n",
            "80000/80000 [==============================] - 7s 93us/step - loss: 0.4398 - acc: 0.7998 - val_loss: 0.4555 - val_acc: 0.7852\n",
            "Epoch 71/75\n",
            "80000/80000 [==============================] - 7s 93us/step - loss: 0.4416 - acc: 0.7981 - val_loss: 0.5816 - val_acc: 0.7123\n",
            "Epoch 72/75\n",
            "80000/80000 [==============================] - 7s 92us/step - loss: 0.4397 - acc: 0.7998 - val_loss: 0.4609 - val_acc: 0.7817\n",
            "Epoch 73/75\n",
            "80000/80000 [==============================] - 7s 93us/step - loss: 0.4402 - acc: 0.7998 - val_loss: 0.4596 - val_acc: 0.7826\n",
            "Epoch 74/75\n",
            "80000/80000 [==============================] - 7s 92us/step - loss: 0.4391 - acc: 0.7999 - val_loss: 0.4607 - val_acc: 0.7934\n",
            "Epoch 75/75\n",
            "80000/80000 [==============================] - 7s 93us/step - loss: 0.4395 - acc: 0.7995 - val_loss: 0.4694 - val_acc: 0.7882\n",
            "_________________________________________________________________\n",
            "Layer (type)                 Output Shape              Param #   \n",
            "=================================================================\n",
            "flatten_1 (Flatten)          (None, 7500)              0         \n",
            "_________________________________________________________________\n",
            "dense_28 (Dense)             (None, 64)                480064    \n",
            "_________________________________________________________________\n",
            "dense_29 (Dense)             (None, 10)                650       \n",
            "=================================================================\n",
            "Total params: 480,714\n",
            "Trainable params: 480,714\n",
            "Non-trainable params: 0\n",
            "_________________________________________________________________\n"
          ]
        }
      ],
      "source": [
        "#Source: (fashion MNIST) https://www.tensorflow.org/tutorials/keras/basic_classification\n",
        "#Source: https://www.pyimagesearch.com/2018/09/10/keras-tutorial-how-to-get-started-with-keras-deep-learning-and-python/?fbclid=lwAR3WMQfZB513JosNLudYcv6DaaVwEv5pD6rQEMB4l_fDRxlwWfNG8gObmJU\n",
        "from keras.models import Sequential\n",
        "from keras.layers import Dense, Dropout\n",
        "from keras.layers import Conv2D\n",
        "from keras.layers import Flatten, Activation\n",
        "import keras.backend as K\n",
        "\n",
        "model=Sequential()\n",
        "\n",
        "model.add(Flatten(input_shape=(50, 50, 3)))\n",
        "model.add(Dense(64, activation='sigmoid'))\n",
        "model.add(Dense(10, activation='softmax'))\n",
        "\n",
        "INIT_LR = 0.01\n",
        "EPOCHS = 75\n",
        "\n",
        "print(\"[INFO] training network...\")\n",
        "opt = SGD(lr=INIT_LR)\n",
        "\n",
        "#Source: (fashion MNIST) https://www.tensorflow.org/tutorials/keras/basic_classification\n",
        "model.compile(loss='sparse_categorical_crossentropy',\n",
        "              optimizer=opt,\n",
        "                 metrics=['accuracy'])\n",
        "# train the network\n",
        "H = model.fit(X_train, Y_train, validation_data = (X_test, Y_test), epochs=EPOCHS, batch_size=100)\n",
        "\n",
        "model.summary()"
      ]
    },
    {
      "cell_type": "code",
      "execution_count": null,
      "metadata": {
        "id": "e1a9o16C5tDp",
        "outputId": "8de267f3-5275-4b44-c91b-eb7704bbcf99"
      },
      "outputs": [
        {
          "name": "stdout",
          "output_type": "stream",
          "text": [
            "[INFO] evaluating network...\n",
            "20000/20000 [==============================] - 1s 70us/step\n"
          ]
        },
        {
          "data": {
            "text/plain": [
              "<matplotlib.legend.Legend at 0x1e980710da0>"
            ]
          },
          "execution_count": 63,
          "metadata": {},
          "output_type": "execute_result"
        },
        {
          "data": {
            "image/png": "[encoded data removed]",
            "text/plain": [
              "<Figure size 432x288 with 1 Axes>"
            ]
          },
          "metadata": {},
          "output_type": "display_data"
        }
      ],
      "source": [
        "#Source: https://www.pyimagesearch.com/2018/09/10/keras-tutorial-how-to-get-started-with-keras-deep-learning-and-python/?fbclid=lwAR3WMQfZB513JosNLudYcv6DaaVwEv5pD6rQEMB4l_fDRxlwWfNG8gObmJU\n",
        "\n",
        "# evaluate the network\n",
        "print(\"[INFO] evaluating network...\")\n",
        "score = model.evaluate(X_test, Y_test, batch_size=100)\n",
        "\n",
        "\n",
        "# plot the training loss and accuracy\n",
        "N = np.arange(0, EPOCHS)\n",
        "plt.style.use(\"ggplot\")\n",
        "plt.figure()\n",
        "plt.plot(N, H.history[\"loss\"], label=\"train_loss\")\n",
        "plt.plot(N, H.history[\"val_loss\"], label=\"val_loss\")\n",
        "plt.plot(N, H.history[\"acc\"], label=\"train_acc\")\n",
        "plt.plot(N, H.history[\"val_acc\"], label=\"val_acc\")\n",
        "plt.title(\"Training Loss and Accuracy\")\n",
        "plt.xlabel(\"Epoch #\")\n",
        "plt.ylabel(\"Loss/Accuracy\")\n",
        "plt.legend()\n"
      ]
    }
  ],
  "metadata": {
    "kernelspec": {
      "display_name": "Python 3",
      "language": "python",
      "name": "python3"
    },
    "language_info": {
      "codemirror_mode": {
        "name": "ipython",
        "version": 3
      },
      "file_extension": ".py",
      "mimetype": "text/x-python",
      "name": "python",
      "nbconvert_exporter": "python",
      "pygments_lexer": "ipython3",
      "version": "3.6.7"
    },
    "colab": {
      "name": "breast_cancer_detection_Model04.ipynb",
      "provenance": [],
      "include_colab_link": true
    }
  },
  "nbformat": 4,
  "nbformat_minor": 0
}